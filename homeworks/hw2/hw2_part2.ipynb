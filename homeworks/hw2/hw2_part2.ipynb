{
  "cells": [
    {
      "cell_type": "markdown",
      "metadata": {
        "id": "gKTBPBJy-MIp"
      },
      "source": [
        "# Instructions\n",
        "\n",
        "In Part 2 of HW2, we will be implementing neural Q-learning, a deep learning approach to the Q-learning algorithm.\n",
        "\n",
        "**Deep Q-Network (DQN)** is a reinforcement learning algorithm that combines Q-learning with deep neural networks, enabling it to learn optimal policies in complex high-dimensional environments. DQNs employ two neural networks:\n",
        "\n",
        "- The Q-network (main network): Trained frequently during the learning process to approximate the action-value function.\n",
        "- The target network: Used to compute target Q-values. Provides stable target Q-values for the Q-network updates. Periodically copied from the Q-network.\n",
        "\n",
        "During training, the Q-network is updated by minimizing the difference between its predicted Q-values and the target Q-values (which are computed by the target network). This separation reduces instability and divergence, which are common challenges in reinforcement learning with function approximation.\n",
        "\n",
        "The **DQN agent** interacts with the environment, collecting experiences in the form of transitions (s,a,r,s′) and storing them in the *replay buffer*. During training, mini-batches of experiences are sampled and used to train the Q-network.\n",
        "\n",
        "In Part 2, you will implement **DQN** and **DQN agent** which effectively operate on the TextWorld environment. This assignment is divided into the following steps:\n",
        "\n",
        "- Step 1: Implement `DQN`, a neural network used for approximating the Q-function. In this assignment, you will work with a RNN-based text encoder to obtain state representations.\n",
        "- Step 2: Implement `DQNAgent`, an agent containing `DQN`, interacts with environment, saves experiences to the replay buffer, and trains the Q-network.\n",
        "- Step 3: Implement the `run_policy` function. Similar to Part 1. Update the code to work with `DQNAgent`\n",
        "\n",
        "After completing steps 1 through 3, you will test your DQN agent on the same environment and testing suite as in Part 1.\n",
        "\n",
        "**Notes:**\n",
        "- We encourage you to finish Part 1 first before starting Part 2.\n",
        "- All the test configurations of the environment are the same as in Part 1.\n",
        "- Training and testing with a neural network require computations, which may require purchasing API credits. Here are some tips to minimize costs:  \n",
        "    - Implementation and initial testing can be done on CPUs. You can use your local machine or free Colab credits.\n",
        "    - For parameter tuning, you may need more computational power, especially GPUs. Instead of an exhaustive search, try making educated guesses to optimize your parameters efficiently.\n",
        "    - [lightning.ai](https://lightning.ai) also offers free GPU credits.  \n",
        "- ***DO NOT REMOVE ANY COMMENTS THAT HAVE `# EXPORT` IN THEM. THE GRADING SCRIPT USES THESE COMMENTS TO EVALUATE YOUR FUNCTIONS. WE WILL NOT AUDIT SUBMISSIONS TO ADD THESE. IF THE AUTOGRADER FAILS TO RUN DUE TO YOUR MODIFICATION OF THESE COMMENTS, YOU WILL NOT RECEIVE CREDIT.***"
      ]
    },
    {
      "cell_type": "markdown",
      "metadata": {
        "id": "NMJadvTO-O7z"
      },
      "source": [
        "# Install"
      ]
    },
    {
      "cell_type": "markdown",
      "metadata": {
        "id": "AdVL2D-B-qYC"
      },
      "source": [
        "Install the `TextWorld-Express` engine, `graphviz` and `pydot` for visualization, and `torch` for neural network implementations."
      ]
    },
    {
      "cell_type": "code",
      "execution_count": null,
      "metadata": {
        "colab": {
          "base_uri": "https://localhost:8080/"
        },
        "id": "Q_jkFnjg-C7N",
        "outputId": "da326fa5-1361-4b7c-a0f3-ea7affcba480"
      },
      "outputs": [],
      "source": [
        "!pip install gymnasium\n",
        "!pip install textworld-express\n",
        "!pip install graphviz\n",
        "!pip install pydot\n",
        "!pip install torch"
      ]
    },
    {
      "cell_type": "markdown",
      "metadata": {
        "id": "f0GaE8xE-T6A"
      },
      "source": [
        "# Imports"
      ]
    },
    {
      "cell_type": "code",
      "execution_count": 29,
      "metadata": {
        "id": "_ScAIKmf-Vmm"
      },
      "outputs": [],
      "source": [
        "# export\n",
        "# imports for environment\n",
        "from textworld_express import TextWorldExpressEnv\n",
        "import gymnasium\n",
        "import copy\n",
        "import random\n",
        "\n",
        "# imports for DQN\n",
        "import torch\n",
        "import torch.nn as nn\n",
        "import torch.optim as optim\n",
        "import torch.nn.functional as F\n",
        "from collections import deque\n",
        "import numpy as np\n",
        "from transformers import AutoTokenizer"
      ]
    },
    {
      "cell_type": "markdown",
      "metadata": {
        "id": "7U9ElZek-y5I"
      },
      "source": [
        "# Load a Game"
      ]
    },
    {
      "cell_type": "markdown",
      "metadata": {
        "id": "Rg_yOwlT_ByQ"
      },
      "source": [
        "Set the random seed for repeatablity"
      ]
    },
    {
      "cell_type": "code",
      "execution_count": 30,
      "metadata": {
        "id": "cIGNj42d-93N"
      },
      "outputs": [],
      "source": [
        "# export\n",
        "SEED = 3"
      ]
    },
    {
      "cell_type": "markdown",
      "metadata": {
        "id": "_8_CqmGx_GOo"
      },
      "source": [
        "Initialize the game environment. `ENV` is a global that encapulates the environment."
      ]
    },
    {
      "cell_type": "code",
      "execution_count": 31,
      "metadata": {
        "id": "CRwKCeqK_JOy"
      },
      "outputs": [],
      "source": [
        "ENV = TextWorldExpressEnv(envStepLimit=100)"
      ]
    },
    {
      "cell_type": "markdown",
      "metadata": {
        "id": "CtJDssBp_Kd_"
      },
      "source": [
        "Set the game generator to generate a particular game (coin game or map reader)"
      ]
    },
    {
      "cell_type": "code",
      "execution_count": 32,
      "metadata": {
        "id": "piAle474_SPG"
      },
      "outputs": [],
      "source": [
        "GAME_TYPE = \"coin\"\n",
        "GAME_PARAMS = \"numLocations=5,includeDoors=1,numDistractorItems=0\"\n",
        "ENV.load(gameName=GAME_TYPE, gameParams=GAME_PARAMS)\n",
        "obs, infos = ENV.reset(seed=SEED, gameFold=\"train\", generateGoldPath=True)"
      ]
    },
    {
      "cell_type": "markdown",
      "metadata": {},
      "source": [
        "# Utility Functions\n",
        "\n",
        "This section defines utility functions for Part 2. Most of these functions do not require modification."
      ]
    },
    {
      "cell_type": "markdown",
      "metadata": {
        "id": "7SkcfE1CA_a4"
      },
      "source": [
        "Environment Interaction Functions (see the description in Part 1)"
      ]
    },
    {
      "cell_type": "code",
      "execution_count": 33,
      "metadata": {
        "id": "e5zs1sspRvDy"
      },
      "outputs": [],
      "source": [
        "# export\n",
        "def reset_mdp(env):\n",
        "  obs, infos = env.reset(seed=SEED, gameFold=\"train\", generateGoldPath=True)\n",
        "  valids = infos['validActions']\n",
        "  valids.remove('inventory')\n",
        "  valids.remove('look around')\n",
        "  inv = infos['inventory']\n",
        "  modified_obs = obs_with_inventory(infos['look'], inv)\n",
        "  # return make_state_mdp(infos['look'], parse_inventory(infos['inventory'])), valids\n",
        "  return {'observation': infos['look'],\n",
        "          'inventory': infos['inventory'],\n",
        "          'valid actions': valids}\n",
        "\n",
        "\n",
        "def do_action_mdp(action, env):\n",
        "  obs, reward, done, infos = env.step(action)\n",
        "  #obs_look, reward_look, done_look, infos_look = env.step('look around')\n",
        "  valid_actions = infos['validActions']\n",
        "  valid_actions.remove('inventory')\n",
        "  valid_actions.remove('look around')\n",
        "  # return make_state_mdp(infos['look'], parse_inventory(infos['inventory'])), reward, done, valid_actions\n",
        "  return infos['look'], reward, done, {'observation': infos['look'],\n",
        "                                       'inventory': infos['inventory'],\n",
        "                                       'valid actions': valid_actions}"
      ]
    },
    {
      "cell_type": "markdown",
      "metadata": {
        "id": "UKVzzXoVldvm"
      },
      "source": [
        "Define `pad_sequences`, which is used in Step 2 to pad text sequences into the same size for batching."
      ]
    },
    {
      "cell_type": "code",
      "execution_count": 34,
      "metadata": {
        "id": "p3sUHa7klfta"
      },
      "outputs": [],
      "source": [
        "# export\n",
        "def pad_sequences(sequences, maxlen=None, dtype='int32', value=0.):\n",
        "    '''\n",
        "    Partially borrowed from Keras\n",
        "    # Arguments\n",
        "        sequences: list of lists where each element is a sequence\n",
        "        maxlen: int, maximum length\n",
        "        dtype: type to cast the resulting sequence.\n",
        "        value: float, value to pad the sequences to the desired value.\n",
        "    # Returns\n",
        "        x: numpy array with dimensions (number_of_sequences, maxlen)\n",
        "    '''\n",
        "    lengths = [len(s) for s in sequences]\n",
        "    nb_samples = len(sequences)\n",
        "    if maxlen is None:\n",
        "        maxlen = np.max(lengths)\n",
        "    # take the sample shape from the first non empty sequence\n",
        "    # checking for consistency in the main loop below.\n",
        "    sample_shape = tuple()\n",
        "    for s in sequences:\n",
        "        if len(s) > 0:\n",
        "            sample_shape = np.asarray(s).shape[1:]\n",
        "            break\n",
        "    x = (np.ones((nb_samples, maxlen) + sample_shape) * value).astype(dtype)\n",
        "    for idx, s in enumerate(sequences):\n",
        "        if len(s) == 0:\n",
        "            continue  # empty list was found\n",
        "        # pre truncating\n",
        "        trunc = s[-maxlen:]\n",
        "        # check `trunc` has expected shape\n",
        "        trunc = np.asarray(trunc, dtype=dtype)\n",
        "        if trunc.shape[1:] != sample_shape:\n",
        "            raise ValueError('Shape of sample %s of sequence at position %s is different from expected shape %s' %\n",
        "                             (trunc.shape[1:], idx, sample_shape))\n",
        "        # post padding\n",
        "        x[idx, :len(trunc)] = trunc\n",
        "    return x"
      ]
    },
    {
      "cell_type": "markdown",
      "metadata": {
        "id": "BkVHzerAk4Y3"
      },
      "source": [
        "The action set used in Part 2. This mapping table is used when we initialize DQN to set the number of final outputs (action space) and to map action strings to numerical IDs and vice versa."
      ]
    },
    {
      "cell_type": "code",
      "execution_count": 35,
      "metadata": {
        "id": "3LZ2EKgWkn_X"
      },
      "outputs": [],
      "source": [
        "# export\n",
        "action_set = {\n",
        "  'look around': 0,\n",
        "  'close door to west': 1,\n",
        "  'close door to east': 2,\n",
        "  'close door to south': 3,\n",
        "  'close door to north': 4,\n",
        "  'move west': 5,\n",
        "  'move east': 6,\n",
        "  'move south': 7,\n",
        "  'move north': 8,\n",
        "  'open door to west': 9,\n",
        "  'open door to east': 10,\n",
        "  'open door to south': 11,\n",
        "  'open door to north': 12,\n",
        "  'inventory': 13,\n",
        "  'take coin': 14,\n",
        "  'read map': 15,\n",
        "  'put map in box': 16,\n",
        "  'task': 17,\n",
        "  'take map': 18,\n",
        "  'put coin in box': 19\n",
        "}"
      ]
    },
    {
      "cell_type": "markdown",
      "metadata": {
        "id": "Mn5CeI-VtYiG"
      },
      "source": [
        "In Part 2, we need to encode textual states, which is more computationally expensive than using a simple Q-table. To improve efficiency, we use some tricks to reduce the length of state representations. We recommend using this `obs_with_inventory` function for this assignment."
      ]
    },
    {
      "cell_type": "code",
      "execution_count": null,
      "metadata": {
        "id": "D1ynrEpntZEZ"
      },
      "outputs": [],
      "source": [
        "# export\n",
        "def obs_with_inventory(obs, inv):\n",
        "  # some tricks to reduce the length of state\n",
        "  if 'Your inventory is currently empty' in inv:\n",
        "    inv = 'Inventory: empty'\n",
        "\n",
        "  if '(maximum capacity is 2 items)' in inv:\n",
        "    inv = inv.replace(\"(maximum capacity is 2 items)\", \"\")\n",
        "\n",
        "  return obs + '\\n' + inv"
      ]
    },
    {
      "cell_type": "markdown",
      "metadata": {
        "id": "nJzznPc_wswe"
      },
      "source": [
        "# Important Notes for this Assignment\n",
        "\n",
        "\n",
        "*   A successful episode from the MDP will give a reward of 1.0\n",
        "*   A partially successful episode from an MDP environment will give a reward of 0.5\n",
        "*   If you increase NUM_EPISODES too high, it will take too long in the autograder.\n",
        "*   We will be checking for hard coded values / outputs, so please don't take any shortcuts.\n",
        "\n"
      ]
    },
    {
      "cell_type": "markdown",
      "metadata": {
        "id": "2sGpjl4N4YP9"
      },
      "source": [
        "# Step 1. Implement `DQN`\n",
        "\n",
        "In this step, we will define how the neural network will encode observations and calculate Q-values to approximate the Q-function.\n",
        "We implement the `DQN` class that estimates the expected Q-values for each possible action in a given state.\n",
        "Since neural networks in the DQN takes inputs in the form of tensor, we need to encode a state to obtain state representations. We adopt a simple RNN-based state network following the paper [Interactive Fiction Games: A Colossal Adventure](https://arxiv.org/pdf/1909.05398) to encode textual states from the Textworld-Express.\n",
        "\n",
        "To help you with this task, we have provided the following three classes:\n",
        "- `PackedEncoderRNN`: This class is a recurrent neural network (RNN) for processing sequential data like text. You don't need to modify this class in this assignment.\n",
        "- `StateNetwork`: This class encodes the observations and inventory information from the TextWorld game, creating a compact representation of the game state. While the current implementation uses one RNN to encode the state, you can optionally explore using more RNNs (as suggested in the [paper](https://arxiv.org/pdf/1909.05398)) to encode observations and inventory separately, concatenating them for the final state representations.\n",
        "- `DQN`: This is the core of the deep Q-Network, containing the `StateNetwork`. **Your main task in this step is to complete the `DQN` class.**"
      ]
    },
    {
      "cell_type": "code",
      "execution_count": 37,
      "metadata": {
        "id": "3ejeYWxRrtiY"
      },
      "outputs": [],
      "source": [
        "# export\n",
        "class PackedEncoderRNN(nn.Module):\n",
        "  \"\"\"\n",
        "    No need to change, but feel free to improve if needed.\n",
        "  \"\"\"\n",
        "  def __init__(self, input_size, hidden_size):\n",
        "    super(PackedEncoderRNN, self).__init__()\n",
        "    self.hidden_size = hidden_size\n",
        "    self.embedding = nn.Embedding(input_size, hidden_size)\n",
        "    self.gru = nn.GRU(hidden_size, hidden_size)\n",
        "\n",
        "  def forward(self, input, hidden=None):\n",
        "    embedded = self.embedding(input).permute(1, 0, 2) # T x Batch x EmbDim\n",
        "    if hidden is None:\n",
        "        hidden = self.initHidden(input.size(0))\n",
        "\n",
        "    # Pack the padded batch of sequences\n",
        "    lengths = torch.tensor([torch.nonzero(n)[-1] + 1 for n in input], dtype=torch.long).cpu()\n",
        "    packed = nn.utils.rnn.pack_padded_sequence(embedded, lengths, enforce_sorted=False)\n",
        "    output, hidden = self.gru(packed, hidden)\n",
        "\n",
        "    # Unpack the padded sequence\n",
        "    output, _ = nn.utils.rnn.pad_packed_sequence(output)\n",
        "\n",
        "    # Return only the last timestep of output for each sequence\n",
        "    lengths = lengths.cuda()\n",
        "    idx = (lengths-1).view(-1, 1).expand(len(lengths), output.size(2)).unsqueeze(0)\n",
        "    output = output.gather(0, idx).squeeze(0)\n",
        "    return output, hidden\n",
        "\n",
        "  def initHidden(self, batch_size):\n",
        "    return torch.zeros(1, batch_size, self.hidden_size).cuda()\n",
        "\n",
        "\n",
        "class StateNetwork(nn.Module):\n",
        "  \"\"\"\n",
        "    No need to change, but feel free to improve if needed.\n",
        "  \"\"\"\n",
        "  def __init__(self, config):\n",
        "    super(StateNetwork, self).__init__()\n",
        "    self.config = config\n",
        "    self.enc_state = PackedEncoderRNN(config.vocab_size, config.hidden_size)\n",
        "    self.fcx = nn.Linear(config.hidden_size, config.hidden_size)\n",
        "    self.fch = nn.Linear(config.hidden_size, config.hidden_size)\n",
        "\n",
        "  def forward(self, inputs):\n",
        "    batch_size = inputs.shape[0]\n",
        "    x_o, h_o = self.enc_state(inputs, self.enc_state.initHidden(batch_size))\n",
        "\n",
        "    x = F.relu(self.fcx(x_o))\n",
        "    h = F.relu(self.fch(h_o))\n",
        "\n",
        "    return x, h\n",
        "\n",
        "\n",
        "class DQN(nn.Module):\n",
        "  def __init__(self, config):\n",
        "    super(DQN, self).__init__()\n",
        "    self.state_network = StateNetwork(config)\n",
        "    self.act_scorer = nn.Linear(config.hidden_size, config.act_size)\n",
        "\n",
        "  def forward(self, state):\n",
        "    \"\"\"\n",
        "      the output should be (BATCH_SIZE, ACTION_SIZE): the estimated Q-values for each action given a state\n",
        "    \"\"\"\n",
        "    ### YOUR CODE BELOW HERE\n",
        "    raise NotImplementedError\n",
        "    ### YOUR CODE ABOVE HERE"
      ]
    },
    {
      "cell_type": "markdown",
      "metadata": {
        "id": "Gt3zgQxTX0x0"
      },
      "source": [
        "Test your DQN implementation with a simple input example. This is a sanity check and does not guarantee the correctness of your code. You will test your implementation after Step 2 and Step 3 on the actual environment."
      ]
    },
    {
      "cell_type": "code",
      "execution_count": 38,
      "metadata": {
        "colab": {
          "base_uri": "https://localhost:8080/"
        },
        "id": "FoRXWfrsXx3p",
        "outputId": "c3beb5f4-471a-4d0d-a438-5f2268b762da"
      },
      "outputs": [
        {
          "name": "stdout",
          "output_type": "stream",
          "text": [
            "****** Q-values ****** (not trained)\n",
            "look around         : -0.041797\n",
            "close door to west  : 0.027684\n",
            "close door to east  : -0.017741\n",
            "close door to south : -0.024807\n",
            "close door to north : -0.047225\n",
            "move west           : -0.074349\n",
            "move east           : 0.101021\n",
            "move south          : -0.009119\n",
            "move north          : 0.101794\n",
            "open door to west   : 0.046262\n",
            "open door to east   : -0.048911\n",
            "open door to south  : -0.050215\n",
            "open door to north  : 0.084541\n",
            "inventory           : -0.124426\n",
            "take coin           : -0.112793\n",
            "read map            : 0.014005\n",
            "put map in box      : -0.007356\n",
            "task                : 0.010428\n",
            "take map            : -0.097566\n",
            "put coin in box     : 0.011432\n"
          ]
        }
      ],
      "source": [
        "# Test your DQN implementation\n",
        "\n",
        "class DQNConfig:\n",
        "  vocab_size = 50257 # vocab size of the GPT2 tokenizer. Change only if you want to try a different tokenizer.\n",
        "  act_size = len(action_set)\n",
        "  embedding_size = 64\n",
        "  hidden_size = 256\n",
        "\n",
        "device = torch.device('cuda') if torch.cuda.is_available() else torch.device('cpu')\n",
        "config = DQNConfig()\n",
        "dqn = DQN(config).to(device)\n",
        "x = torch.tensor([0, 1, 2, 3, 4, 5]).to(device).unsqueeze(0) # random input token ids\n",
        "print(\"******** Q-values ******** (not trained)\")\n",
        "q_values = dqn(x)\n",
        "for act, actid in action_set.items():\n",
        "  print(f\"{act:20}: {q_values[0][actid]:0.6f}\")"
      ]
    },
    {
      "cell_type": "markdown",
      "metadata": {
        "id": "UhgPPbfb9ANG"
      },
      "source": [
        "# Step 2: Implement `DQNAgent`\n",
        "\n",
        "In this step, you will implement the `DQNAgent` class, which encapsulates the `DQN` model and the core logic for interacting with the environment, storing experiences, and training the neural network. The `DQNAgent` is responsible for:\n",
        "\n",
        "* Interacting with the environment: Using `reset_mdp()` to initialize an episode and `do_action_mdp()` to take actions and observe the consequences.\n",
        "* Storing experiences: Saving transitions (state, action, reward, next state, done) in a replay buffer for experience replay.\n",
        "* Estimating Q-values: Using the `DQN` model to predict the expected Q-values for each action in a given state.\n",
        "* Training the neural network: Updating the `DQN` model's parameters based on the experiences stored in the replay buffer.\n",
        "\n",
        "Note that the `train` function will serve as the entry point for the training process. For example, we will use this code to create and train your agent:\n",
        "\n",
        "```\n",
        "agent = DQNAgent(action_set, DQNConfig(), gamma=GAMMA, epsilon=EPSILON)\n",
        "agent.train(ENV, NUM_EPISODES, THRESHOLD)\n",
        "```\n",
        "\n",
        "The `train` function takes the following arguments:\n",
        "\n",
        "* `env`: The TextWorldExpress environment (`ENV`).\n",
        "* `num_episodes`: The total number of episodes to train for.\n",
        "* `threshold`: The maximum number of steps allowed in a single episode.\n",
        "\n",
        "**Design Considerations:**\n",
        "\n",
        "Apart from the `train` function, you have flexibility in designing the internal structure and methods of the `DQNAgent` class. Here are some recommendations to guide your implementation:\n",
        "\n",
        "* Epsilon Decay: Gradually decrease the exploration rate (epsilon) over time to shift from exploration to exploitation. (use `epsilon_decay` and `epsilon_min`)\n",
        "* Target Network Update: Periodically update the target network with the weights of the main Q-network (e.g., every 1000 steps) to stabilize training. (use `update_freq_target`)\n",
        "* Q-Network Update Frequency: Update the Q-network every few steps (e.g., every 4 steps) rather than after every single step to improve efficiency and stability. (use `update_freq` )\n",
        "\n",
        "Note that your function will interact with the environment through `reset_mdp()` and `do_action_mdp()`. Be sure to reset the environment before running, and terminate the episode if `do_action_mdp()` indicates the episode has terminated."
      ]
    },
    {
      "cell_type": "code",
      "execution_count": 39,
      "metadata": {
        "id": "R02kCLNnrvUa"
      },
      "outputs": [],
      "source": [
        "# export\n",
        "class DQNAgent:\n",
        "  def __init__(self,\n",
        "               action_set,\n",
        "               dqn_config,\n",
        "               gamma,\n",
        "               epsilon,\n",
        "               learning_rate=0.0005,\n",
        "               epsilon_decay=0.995,\n",
        "               epsilon_min=0.01,\n",
        "               batch_size=64,\n",
        "               memory_size=100000,\n",
        "               update_freq=4,\n",
        "               update_freq_target=1000):\n",
        "    self.act2id = {a: i for i, a in enumerate(action_set)}\n",
        "    self.id2act = {i: a for i, a in enumerate(action_set)}\n",
        "\n",
        "    self.update_freq = update_freq\n",
        "    self.update_freq_target = update_freq_target\n",
        "    self.max_seq_len = 256  # DO NOT CHANGE `max_seq_len`\n",
        "    self.tokenizer =  AutoTokenizer.from_pretrained('gpt2')\n",
        "\n",
        "    self.gamma = gamma\n",
        "    self.epsilon = epsilon\n",
        "    self.epsilon_decay = epsilon_decay\n",
        "    self.epsilon_min = epsilon_min\n",
        "    self.batch_size = batch_size\n",
        "    self.replay_buffer = deque(maxlen=memory_size)\n",
        "    self.device = torch.device(\"cuda\" if torch.cuda.is_available() else \"cpu\")\n",
        "    self.model = DQN(dqn_config).to(self.device)\n",
        "    self.target_model = DQN(dqn_config).to(self.device)\n",
        "    self.optimizer = optim.Adam(self.model.parameters(), lr=learning_rate)\n",
        "\n",
        "  def tokenize_and_pad_states(self, states):\n",
        "    \"\"\"\n",
        "    Tokenizes and pads a list of textual states.\n",
        "    Uses the pre-trained tokenizer to convert textual descriptions of\n",
        "    the environment into numerical representations (tokens) and then pads\n",
        "    the sequences to a uniform length.\n",
        "\n",
        "    Args:\n",
        "        states: A list of string representations of the environment state.\n",
        "\n",
        "    Returns:\n",
        "        A padded NumPy array of tokenized states.\n",
        "    \"\"\"\n",
        "    input_ids = self.tokenizer(states)['input_ids']\n",
        "    return pad_sequences(input_ids, maxlen=self.max_seq_len)\n",
        "\n",
        "  def train(self, env, num_episodes, threshold):\n",
        "    \"\"\"Trains the DQN agent in the given environment.\n",
        "\n",
        "    Args:\n",
        "      env: The environment to train the agent in.\n",
        "      num_episodes: The number of episodes to train for.\n",
        "      threshold: The maximum number of steps to take in each episode.\n",
        "\n",
        "    Returns:\n",
        "      - A list of rewards obtained in each episode.\n",
        "    \"\"\"\n",
        "    all_rewards = []  # Store rewards for each episode\n",
        "    ### YOUR CODE BELOW HERE\n",
        "    raise NotImplementedError\n",
        "    ### YOUR CODE ABOVE HERE\n",
        "    return all_rewards"
      ]
    },
    {
      "cell_type": "markdown",
      "metadata": {
        "id": "js7x9FBAr_0e"
      },
      "source": [
        "Similar to Part 1, you might need to adjust the hyperparameters NUM_EPISODES, THRESHOLD, GAMMA, and EPSILON from their default values. These variables are just for the simple test below. The autograder will use the variables you set in `set_parameters` below."
      ]
    },
    {
      "cell_type": "code",
      "execution_count": null,
      "metadata": {
        "colab": {
          "base_uri": "https://localhost:8080/",
          "height": 1000,
          "referenced_widgets": [
            "ade0f6ba1195472fb29f9d4141832cde",
            "f2274c8560d340a1ae38e85f25817c90",
            "01d2bdd36f814e3fb134a3e9448c85ad",
            "8a9983fac2884ddb9507bfa3065cf12c",
            "dd4fbf4066374253ad16143f96a1b1f6",
            "7bd0c526ec5548ef94c53abdedd8fa95",
            "f78d1ce3a6da4c71a515616f4e448b6a",
            "9176817e2ea84b62979d94147e480530",
            "ef3c33a2a74246999f326a8331208ec8",
            "0e06cc9e741f4d3a817ac368d30b19ff",
            "f943b84dce384188ac572eab0a24967f",
            "c1e26d30e6fe4b3f8eacce4b2e499363",
            "8c6ff33b38d94cb48a79d37671741eca",
            "63e00825f6e34fbba86863fd162bf93a",
            "9967e32e6143496f8893e4a8941a2043",
            "d9da8f9cd4ba4eab91778d86a309baa6",
            "3d4cd11d435f47c09ee3b560fc53044f",
            "6cb62602bbff41c9a0a9a0e2ac7fde3d",
            "acb90a41322e4018a19e00cc2e97f236",
            "c364fb971bb148b89489b1dd4858e6a9",
            "3acbd604c6b3487eae42ffb73da068e9",
            "490f64b6f88540c69b52187946a6fc93",
            "d5ba1c8986ff4ef593201abe949df2d2",
            "ba9e8fc74a8f46ce87b1512c1e7c1546",
            "14bca33ada594a618759ee84c1ff3494",
            "70c03d55ad6e42b2ad28bd4e94d6c864",
            "42a76986c2114f0285f1d113cfaef9e8",
            "9b050daab9124a86be8855f82b651a31",
            "7798dbd0a7404904a11b0199ce3b8ed0",
            "100bb8dbe1a441e9adf1e81013b7ed5c",
            "d23744705b6c4a4986ae9a0051ffa767",
            "bf879b0dcb684ba68cf666aee89c9ccb",
            "0eb6a7c0ba214a8ea69091c6b561c5f2",
            "2a72ce34d14e49e9942b611381134e24",
            "47c8e12c443c4a6a947b4b7e8bccb8a6",
            "8d73812e12354b6fb8d9b9ad928c8d86",
            "28813c105e7946b9b4fe9ae500b39023",
            "a95d2510d9ad4df683fbfb22e5b4dde0",
            "a1c710352c2740abb073ced77e824987",
            "99bf57b7e6714f9ba8ac3e67b0852a22",
            "1280b721212e463398dad9a9269ec2e4",
            "b6837c8777f244b8a5a48aa23960d0ed",
            "d20276010dd343df9a5498795131f57e",
            "125b82cd74184e2f9399afafd391c511",
            "eba7a4d7aa8e425b9cbe8e31c459483e",
            "bfe3ae9de1674d0baa92919aa8ff476c",
            "fc4f9c38b9a1488c9aa2d17829723785",
            "b01ce2a8b721466590e8aff1a3bfd10d",
            "4a5f68ab463643a085166a75405b5d44",
            "45e81bb07cf64455a91aaebb9b592cb8",
            "f14b30395edd4bf0802d9c9a6fb7baad",
            "29a68ad51db7437cb1e708f82597ba4b",
            "e1d5a481148b40e59c1aeb859e6bf5ce",
            "fe936253ad4c4b049fe050ae6f7e62ef",
            "0901f8bc04c747a0841b5108f0a01da0"
          ]
        },
        "id": "fvCsvElH0TSD",
        "outputId": "81343d88-dc74-4331-c9ed-50ba99952e81"
      },
      "outputs": [],
      "source": [
        "# set parameters\n",
        "NUM_EPISODES = 100\n",
        "THRESHOLD = 25\n",
        "GAMMA = 0.5\n",
        "EPSILON = 1.0"
      ]
    },
    {
      "cell_type": "markdown",
      "metadata": {},
      "source": [
        "Create a DQNAgent and train"
      ]
    },
    {
      "cell_type": "code",
      "execution_count": null,
      "metadata": {},
      "outputs": [],
      "source": [
        "agent = DQNAgent(action_set, DQNConfig(), gamma=GAMMA, epsilon=EPSILON)\n",
        "all_rewards = agent.train(ENV, NUM_EPISODES, THRESHOLD)\n",
        "print(all_rewards)"
      ]
    },
    {
      "cell_type": "markdown",
      "metadata": {
        "id": "-z2k4EkrGaMm"
      },
      "source": [
        "# Step 3. Implement Code to Run a Policy"
      ]
    },
    {
      "cell_type": "markdown",
      "metadata": {
        "id": "_j5OrjrTtxWM"
      },
      "source": [
        "In this step, you will implement the `run_policy` function to execute the policy learned by the `DQNAgent`. If you have successfully completed Part 1, adapting your existing implementation to work with the `DQNAgent` should be straightforward. \n",
        "\n",
        "**Important:** Ensure that your agent uses **greedy action selection** during policy execution, meaning it always chooses the action with the highest estimated Q-value from the `DQN`. You may implement helper functions within the `DQNAgent` class to facilitate policy execution.\n",
        "\n",
        "The `run_policy` function takes the following arguments:\n",
        "\n",
        "* `agent`: Your trained `DQNAgent` instance.\n",
        "* `env`: The TextWorldExpress environment (e.g., `ENV`).\n",
        "* `threshold`: The maximum number of steps allowed in an episode before termination.\n",
        "\n",
        "Your function should run a single episode from the initial state and return:\n",
        "- A list of actions taken during the episode (e.g., `[act_1, act_2, ... act_n]`).\n",
        "- The total sum reward of all actions taken as a float."
      ]
    },
    {
      "cell_type": "code",
      "execution_count": 40,
      "metadata": {
        "id": "7jJCxMBTGdv9"
      },
      "outputs": [],
      "source": [
        "# export\n",
        "def run_policy(agent, env, threshold=50):\n",
        "  actions = [] # Store the entire sequence of actions here\n",
        "  total_reward = 0.0 # Store the total sum reward of all actions executed here\n",
        "  ### YOUR CODE BELOW HERE\n",
        "  raise NotImplementedError\n",
        "  ### YOUR CODE ABOVE HERE\n",
        "  return actions, total_reward"
      ]
    },
    {
      "cell_type": "markdown",
      "metadata": {
        "id": "goBOBYvBYzeR"
      },
      "source": [
        "Test your `run_policy` function. Set the threshold value for episode length during policy execution (test time threshold)."
      ]
    },
    {
      "cell_type": "code",
      "execution_count": 41,
      "metadata": {
        "id": "KpK_2wuMuZ7d"
      },
      "outputs": [],
      "source": [
        "# export\n",
        "TEST_THRESHOLD = 50"
      ]
    },
    {
      "cell_type": "markdown",
      "metadata": {
        "id": "lWOGP5aWY59n"
      },
      "source": [
        "Run the policy."
      ]
    },
    {
      "cell_type": "code",
      "execution_count": null,
      "metadata": {
        "colab": {
          "base_uri": "https://localhost:8080/"
        },
        "id": "vhrGyDGBGrMP",
        "outputId": "44378508-2378-4232-b593-38f1d584f7b3"
      },
      "outputs": [],
      "source": [
        "plan, total_reward = run_policy(agent, ENV, threshold = TEST_THRESHOLD)\n",
        "print(\"plan:\", plan)\n",
        "print(\"Total reward:\", total_reward)"
      ]
    },
    {
      "cell_type": "markdown",
      "metadata": {
        "id": "0cBfmUDG1XHk"
      },
      "source": [
        "# New Environments\n"
      ]
    },
    {
      "cell_type": "markdown",
      "metadata": {
        "id": "pLeYTiUVY9Tj"
      },
      "source": [
        "The following cells are the same as in Part 1: creating new environemnts: `StochasticTextWorldExpressEnv` and `PunishmentTextWorldExpressEnv`."
      ]
    },
    {
      "cell_type": "code",
      "execution_count": 43,
      "metadata": {
        "id": "n-hc6VnL793a"
      },
      "outputs": [],
      "source": [
        "NEVER_PICK_ACTIONS = set(['look around', 'inventory'])\n",
        "ENV_VERBOSE = False"
      ]
    },
    {
      "cell_type": "code",
      "execution_count": 44,
      "metadata": {
        "id": "GsQWZj0H1WeS"
      },
      "outputs": [],
      "source": [
        "class StochasticTextWorldExpressEnv(TextWorldExpressEnv):\n",
        "\n",
        "  def __init__(self, serverPath=None, envStepLimit=100, stochasticity = 0.0):\n",
        "    # Call the super constructor\n",
        "    super().__init__(serverPath, envStepLimit)\n",
        "    # Store the valid actions and stochasticity\n",
        "    self.valid_actions = []\n",
        "    self.stochasticity = stochasticity\n",
        "\n",
        "  def reset(self, seed=None, gameFold=None, gameName=None, gameParams=None, generateGoldPath=False):\n",
        "    # Call the super method\n",
        "    observation, infos = super().reset(seed, gameFold, gameName, gameParams, generateGoldPath)\n",
        "    # Update the valid actions\n",
        "    self.valid_actions = infos['validActions']\n",
        "    return observation, infos\n",
        "\n",
        "  def step(self, action:str):\n",
        "    # If a random value is less than the stochasticity target, choose a random action\n",
        "    if random.random() < self.stochasticity:\n",
        "      temp_valids = copy.deepcopy(self.valid_actions)\n",
        "      # Remove inventory and look around from valid actions to choose from\n",
        "      temp_valids = list(set(self.valid_actions).difference(NEVER_PICK_ACTIONS))\n",
        "      # Pick a random action from whatever remains\n",
        "      action = random.choice(temp_valids)\n",
        "    # If debugging flag is on, print the action that will be executed\n",
        "    if ENV_VERBOSE:\n",
        "      print(\"[[action]]:\", action)\n",
        "    # Call the super class with either the action passed in or the randomly chosen one\n",
        "    observation, reward, isCompleted, infos = super().step(action)\n",
        "    # Update the valid actions\n",
        "    self.valid_actions = infos['validActions']\n",
        "    return observation, reward, isCompleted, infos\n",
        "\n",
        "class PunishmentTextWorldExpressEnv(TextWorldExpressEnv):\n",
        "\n",
        "  def __init__(self, serverPath=None, envStepLimit=100, punishment = 0.0):\n",
        "    # Call the super constructor\n",
        "    super().__init__(serverPath, envStepLimit)\n",
        "    # Store the punishment\n",
        "    self.punishment = punishment\n",
        "    # Store the previous observation\n",
        "    self.previous_observation = None\n",
        "\n",
        "  def step(self, action:str):\n",
        "    # Call the super method\n",
        "    observation, reward, isCompleted, infos = super().step(action)\n",
        "    # If the current look is the same as the previous look, then we have performed an illegal action\n",
        "    if infos['look'] == self.previous_observation:\n",
        "      reward = self.punishment\n",
        "    # Store the previous observation\n",
        "    self.previous_observation = infos['look']\n",
        "    return observation, reward, isCompleted, infos"
      ]
    },
    {
      "cell_type": "markdown",
      "metadata": {
        "id": "lKV4lUC1agso"
      },
      "source": [
        "New environments must be registered through the Gymnasium API."
      ]
    },
    {
      "cell_type": "code",
      "execution_count": 45,
      "metadata": {
        "id": "OFWWPDS35bMn"
      },
      "outputs": [],
      "source": [
        "# register new environment\n",
        "gymnasium.register(id='TextWorldExpress-StochasticTextWorldExpressEnv-v0',\n",
        "                   entry_point='__main__:StochasticTextWorldExpressEnv')\n",
        "gymnasium.register(id='TextWorldExpress-PunishmentTextWorldExpressEnv-v0',\n",
        "                   entry_point='__main__:PunishmentTextWorldExpressEnv')"
      ]
    },
    {
      "cell_type": "markdown",
      "metadata": {
        "id": "ywMkXNMwQsgZ"
      },
      "source": [
        "# Testing Suite"
      ]
    },
    {
      "cell_type": "markdown",
      "metadata": {
        "id": "gR9ZHmgw8UFa"
      },
      "source": [
        "This function will run all environments, all game types, all game parameters, and all seeds."
      ]
    },
    {
      "cell_type": "code",
      "execution_count": 47,
      "metadata": {
        "id": "OLy0jJ9gRA0L"
      },
      "outputs": [],
      "source": [
        "def run_all(environments, games, seeds):\n",
        "  global ENV, GAME_TYPE, GAME_PARAMS, SEED\n",
        "  # Results will contain a key (env type, game type, game params, seed) and values will be plans and total_rewards\n",
        "  results = {}\n",
        "  test_id = 0\n",
        "  total_reward = 0\n",
        "  # Iterate through all environments given\n",
        "  for env in environments:\n",
        "    # set global environment\n",
        "    ENV = env\n",
        "    # Iterate through all game types, the keys of the games dict\n",
        "    for game_type in games:\n",
        "      # Set the global game type\n",
        "      GAME_TYPE = game_type\n",
        "      # Iterate through all game parameters for the given game type in game dict\n",
        "      for params in games[game_type]:\n",
        "        # set the global game params\n",
        "        GAME_PARAMS = params\n",
        "        # load the environment\n",
        "        ENV.load(gameName=GAME_TYPE, gameParams=GAME_PARAMS)\n",
        "        # Iterate through all seeds\n",
        "        for seed in seeds:\n",
        "          print(f\"TESTING {type(ENV)}, {GAME_TYPE}, {GAME_PARAMS}, {seed}\")\n",
        "          # set the global seed\n",
        "          SEED = seed\n",
        "\n",
        "          # Run the DQNAgent and get the policy\n",
        "          agent = DQNAgent(action_set,\n",
        "                           DQNConfig(),\n",
        "                           gamma=GAMMA,\n",
        "                           epsilon=EPSILON)\n",
        "\n",
        "          agent.train(ENV, NUM_EPISODES, THRESHOLD)\n",
        "\n",
        "          # run the policy to get the plan\n",
        "          plan, reward = run_policy(agent, ENV, threshold = TEST_THRESHOLD)\n",
        "\n",
        "          test_id += 1\n",
        "          total_reward += reward\n",
        "\n",
        "          print(f\"TESTING {test_id}: total_reward {total_reward}/{test_id} \\t (reward: {reward})\")\n",
        "          # Store the plan in the results\n",
        "          results[(type(ENV), GAME_TYPE, GAME_PARAMS, SEED)] = (plan, total_reward)\n",
        "  return results"
      ]
    },
    {
      "cell_type": "code",
      "execution_count": 48,
      "metadata": {
        "id": "jeBUqaKWbBQj"
      },
      "outputs": [],
      "source": [
        "seeds = list(range(3))\n",
        "environments = [TextWorldExpressEnv(envStepLimit=100),\n",
        "                StochasticTextWorldExpressEnv(envStepLimit=100, stochasticity=0.25),\n",
        "                PunishmentTextWorldExpressEnv(envStepLimit=100, punishment=-1.0)]\n",
        "games = {'coin':      ['numLocations=5,includeDoors=1,numDistractorItems=0',\n",
        "                       'numLocations=6,includeDoors=1,numDistractorItems=0',\n",
        "                       'numLocations=7,includeDoors=1,numDistractorItems=0',\n",
        "                       'numLocations=10,includeDoors=1,numDistractorItems=0'],\n",
        "         'mapreader': ['numLocations=5,maxDistanceApart=3,includeDoors=0,maxDistractorItemsPerLocation=0',\n",
        "                       'numLocations=8,maxDistanceApart=4,includeDoors=0,maxDistractorItemsPerLocation=0',\n",
        "                       'numLocations=11,maxDistanceApart=5,includeDoors=0,maxDistractorItemsPerLocation=0']}"
      ]
    },
    {
      "cell_type": "markdown",
      "metadata": {
        "id": "NaZoBv5v8Qa9"
      },
      "source": [
        "Set parameters. Do not alter this cell outside of the changing the numeric values.\n",
        "\n",
        "**You might need to change these parameters to get a good result on the harder environments**\n",
        "\n",
        "Please note that increasing `NUM_EPISODES` will result in an increase in time to run the cell below.\n"
      ]
    },
    {
      "cell_type": "code",
      "execution_count": 49,
      "metadata": {
        "id": "-DaxveUb8PQv"
      },
      "outputs": [],
      "source": [
        "# export\n",
        "def set_parameters():\n",
        "    global NUM_EPISODES, THRESHOLD, GAMMA, EPSILON, TEST_THRESHOLD\n",
        "    NUM_EPISODES = 100\n",
        "    THRESHOLD = 25\n",
        "    GAMMA = 0.5\n",
        "    EPSILON = 1.0\n",
        "    TEST_THRESHOLD = 50\n",
        "\n",
        "    return {\n",
        "      'NUM_EPISODES': NUM_EPISODES,\n",
        "      'THRESHOLD': THRESHOLD,\n",
        "      'GAMMA': GAMMA,\n",
        "      'EPSILON': EPSILON,\n",
        "      'TEST_THRESHOLD': TEST_THRESHOLD\n",
        "    }"
      ]
    },
    {
      "cell_type": "code",
      "execution_count": 50,
      "metadata": {
        "id": "T9dAzWLerjKI"
      },
      "outputs": [],
      "source": [
        "set_parameters()"
      ]
    },
    {
      "cell_type": "markdown",
      "metadata": {
        "id": "PzB7i03p8dij"
      },
      "source": [
        "Run all tests"
      ]
    },
    {
      "cell_type": "code",
      "execution_count": null,
      "metadata": {
        "colab": {
          "base_uri": "https://localhost:8080/",
          "height": 1000
        },
        "id": "Xxm2giWM8fcJ",
        "outputId": "99a85a3a-70a3-4a76-dcf7-09cfb5a401e2"
      },
      "outputs": [],
      "source": [
        "results = run_all(environments, games, seeds)"
      ]
    },
    {
      "cell_type": "markdown",
      "metadata": {
        "id": "acQaep88V13E"
      },
      "source": [
        "# Grading"
      ]
    },
    {
      "cell_type": "markdown",
      "metadata": {
        "id": "kDcg7IENXtj1"
      },
      "source": [
        "Grading will be done in the same way as Part 1. There will be a total of 63 tests: 1 point for each correct plan per algorithm.\n",
        "\n",
        "**Grading:**\n",
        "\n",
        "Maximum total points: 50\n",
        "\n",
        "| # correct plan | Score |\n",
        "|----------|-------|\n",
        "| >= 50   |  50   |\n",
        "| 49      |  49   |\n",
        "| 48      |  48   |\n",
        "| ...      |  ...  |\n",
        "| 2      |  2   |\n",
        "| 1       |   1  |\n",
        "| 0   |   0   |\n"
      ]
    },
    {
      "cell_type": "markdown",
      "metadata": {
        "id": "sA0XSuitsCP5"
      },
      "source": [
        "# Submission\n",
        "\n",
        "Upload this notebook with the name `hw2_part2.ipynb` file to Gradescope. Part 2 will be graded on our local GPU machines. Final grades will be uploaded on Gradescope after the submission deadline.\n",
        "\n",
        "We've added appropriate comments to the top of certain cells for the autograder to export (`# export`). You do NOT have to do anything (e.g. remove print statements) to cells we have provided - anything related to those have been handled for you. You are responsible for ensuring your own code has no syntax errors or unnecessary print statements. You ***CANNOT*** modify the export comments at the top of the cells, or the autograder will fail to run on your submission.\n",
        "\n",
        "You should ***not*** add any cells to the notebook when submitting. You're welcome to add any code as you need to extra cells when testing, but you must remove them when submitting.\n",
        "\n",
        "If you identify an issue with the autograder, please feel free to reach out to us on Piazza, or email bok004@ucsd.edu."
      ]
    }
  ],
  "metadata": {
    "accelerator": "GPU",
    "colab": {
      "collapsed_sections": [
        "NMJadvTO-O7z",
        "f0GaE8xE-T6A",
        "2sGpjl4N4YP9",
        "UhgPPbfb9ANG"
      ],
      "gpuType": "T4",
      "provenance": []
    },
    "kernelspec": {
      "display_name": "Python 3",
      "name": "python3"
    },
    "language_info": {
      "name": "python"
    },
    "widgets": {
      "application/vnd.jupyter.widget-state+json": {
        "01d2bdd36f814e3fb134a3e9448c85ad": {
          "model_module": "@jupyter-widgets/controls",
          "model_module_version": "1.5.0",
          "model_name": "FloatProgressModel",
          "state": {
            "_dom_classes": [],
            "_model_module": "@jupyter-widgets/controls",
            "_model_module_version": "1.5.0",
            "_model_name": "FloatProgressModel",
            "_view_count": null,
            "_view_module": "@jupyter-widgets/controls",
            "_view_module_version": "1.5.0",
            "_view_name": "ProgressView",
            "bar_style": "success",
            "description": "",
            "description_tooltip": null,
            "layout": "IPY_MODEL_9176817e2ea84b62979d94147e480530",
            "max": 26,
            "min": 0,
            "orientation": "horizontal",
            "style": "IPY_MODEL_ef3c33a2a74246999f326a8331208ec8",
            "value": 26
          }
        },
        "0901f8bc04c747a0841b5108f0a01da0": {
          "model_module": "@jupyter-widgets/controls",
          "model_module_version": "1.5.0",
          "model_name": "DescriptionStyleModel",
          "state": {
            "_model_module": "@jupyter-widgets/controls",
            "_model_module_version": "1.5.0",
            "_model_name": "DescriptionStyleModel",
            "_view_count": null,
            "_view_module": "@jupyter-widgets/base",
            "_view_module_version": "1.2.0",
            "_view_name": "StyleView",
            "description_width": ""
          }
        },
        "0e06cc9e741f4d3a817ac368d30b19ff": {
          "model_module": "@jupyter-widgets/base",
          "model_module_version": "1.2.0",
          "model_name": "LayoutModel",
          "state": {
            "_model_module": "@jupyter-widgets/base",
            "_model_module_version": "1.2.0",
            "_model_name": "LayoutModel",
            "_view_count": null,
            "_view_module": "@jupyter-widgets/base",
            "_view_module_version": "1.2.0",
            "_view_name": "LayoutView",
            "align_content": null,
            "align_items": null,
            "align_self": null,
            "border": null,
            "bottom": null,
            "display": null,
            "flex": null,
            "flex_flow": null,
            "grid_area": null,
            "grid_auto_columns": null,
            "grid_auto_flow": null,
            "grid_auto_rows": null,
            "grid_column": null,
            "grid_gap": null,
            "grid_row": null,
            "grid_template_areas": null,
            "grid_template_columns": null,
            "grid_template_rows": null,
            "height": null,
            "justify_content": null,
            "justify_items": null,
            "left": null,
            "margin": null,
            "max_height": null,
            "max_width": null,
            "min_height": null,
            "min_width": null,
            "object_fit": null,
            "object_position": null,
            "order": null,
            "overflow": null,
            "overflow_x": null,
            "overflow_y": null,
            "padding": null,
            "right": null,
            "top": null,
            "visibility": null,
            "width": null
          }
        },
        "0eb6a7c0ba214a8ea69091c6b561c5f2": {
          "model_module": "@jupyter-widgets/controls",
          "model_module_version": "1.5.0",
          "model_name": "DescriptionStyleModel",
          "state": {
            "_model_module": "@jupyter-widgets/controls",
            "_model_module_version": "1.5.0",
            "_model_name": "DescriptionStyleModel",
            "_view_count": null,
            "_view_module": "@jupyter-widgets/base",
            "_view_module_version": "1.2.0",
            "_view_name": "StyleView",
            "description_width": ""
          }
        },
        "100bb8dbe1a441e9adf1e81013b7ed5c": {
          "model_module": "@jupyter-widgets/base",
          "model_module_version": "1.2.0",
          "model_name": "LayoutModel",
          "state": {
            "_model_module": "@jupyter-widgets/base",
            "_model_module_version": "1.2.0",
            "_model_name": "LayoutModel",
            "_view_count": null,
            "_view_module": "@jupyter-widgets/base",
            "_view_module_version": "1.2.0",
            "_view_name": "LayoutView",
            "align_content": null,
            "align_items": null,
            "align_self": null,
            "border": null,
            "bottom": null,
            "display": null,
            "flex": null,
            "flex_flow": null,
            "grid_area": null,
            "grid_auto_columns": null,
            "grid_auto_flow": null,
            "grid_auto_rows": null,
            "grid_column": null,
            "grid_gap": null,
            "grid_row": null,
            "grid_template_areas": null,
            "grid_template_columns": null,
            "grid_template_rows": null,
            "height": null,
            "justify_content": null,
            "justify_items": null,
            "left": null,
            "margin": null,
            "max_height": null,
            "max_width": null,
            "min_height": null,
            "min_width": null,
            "object_fit": null,
            "object_position": null,
            "order": null,
            "overflow": null,
            "overflow_x": null,
            "overflow_y": null,
            "padding": null,
            "right": null,
            "top": null,
            "visibility": null,
            "width": null
          }
        },
        "125b82cd74184e2f9399afafd391c511": {
          "model_module": "@jupyter-widgets/controls",
          "model_module_version": "1.5.0",
          "model_name": "DescriptionStyleModel",
          "state": {
            "_model_module": "@jupyter-widgets/controls",
            "_model_module_version": "1.5.0",
            "_model_name": "DescriptionStyleModel",
            "_view_count": null,
            "_view_module": "@jupyter-widgets/base",
            "_view_module_version": "1.2.0",
            "_view_name": "StyleView",
            "description_width": ""
          }
        },
        "1280b721212e463398dad9a9269ec2e4": {
          "model_module": "@jupyter-widgets/base",
          "model_module_version": "1.2.0",
          "model_name": "LayoutModel",
          "state": {
            "_model_module": "@jupyter-widgets/base",
            "_model_module_version": "1.2.0",
            "_model_name": "LayoutModel",
            "_view_count": null,
            "_view_module": "@jupyter-widgets/base",
            "_view_module_version": "1.2.0",
            "_view_name": "LayoutView",
            "align_content": null,
            "align_items": null,
            "align_self": null,
            "border": null,
            "bottom": null,
            "display": null,
            "flex": null,
            "flex_flow": null,
            "grid_area": null,
            "grid_auto_columns": null,
            "grid_auto_flow": null,
            "grid_auto_rows": null,
            "grid_column": null,
            "grid_gap": null,
            "grid_row": null,
            "grid_template_areas": null,
            "grid_template_columns": null,
            "grid_template_rows": null,
            "height": null,
            "justify_content": null,
            "justify_items": null,
            "left": null,
            "margin": null,
            "max_height": null,
            "max_width": null,
            "min_height": null,
            "min_width": null,
            "object_fit": null,
            "object_position": null,
            "order": null,
            "overflow": null,
            "overflow_x": null,
            "overflow_y": null,
            "padding": null,
            "right": null,
            "top": null,
            "visibility": null,
            "width": null
          }
        },
        "14bca33ada594a618759ee84c1ff3494": {
          "model_module": "@jupyter-widgets/controls",
          "model_module_version": "1.5.0",
          "model_name": "FloatProgressModel",
          "state": {
            "_dom_classes": [],
            "_model_module": "@jupyter-widgets/controls",
            "_model_module_version": "1.5.0",
            "_model_name": "FloatProgressModel",
            "_view_count": null,
            "_view_module": "@jupyter-widgets/controls",
            "_view_module_version": "1.5.0",
            "_view_name": "ProgressView",
            "bar_style": "success",
            "description": "",
            "description_tooltip": null,
            "layout": "IPY_MODEL_100bb8dbe1a441e9adf1e81013b7ed5c",
            "max": 1042301,
            "min": 0,
            "orientation": "horizontal",
            "style": "IPY_MODEL_d23744705b6c4a4986ae9a0051ffa767",
            "value": 1042301
          }
        },
        "28813c105e7946b9b4fe9ae500b39023": {
          "model_module": "@jupyter-widgets/controls",
          "model_module_version": "1.5.0",
          "model_name": "HTMLModel",
          "state": {
            "_dom_classes": [],
            "_model_module": "@jupyter-widgets/controls",
            "_model_module_version": "1.5.0",
            "_model_name": "HTMLModel",
            "_view_count": null,
            "_view_module": "@jupyter-widgets/controls",
            "_view_module_version": "1.5.0",
            "_view_name": "HTMLView",
            "description": "",
            "description_tooltip": null,
            "layout": "IPY_MODEL_d20276010dd343df9a5498795131f57e",
            "placeholder": "​",
            "style": "IPY_MODEL_125b82cd74184e2f9399afafd391c511",
            "value": " 456k/456k [00:00&lt;00:00, 14.2MB/s]"
          }
        },
        "29a68ad51db7437cb1e708f82597ba4b": {
          "model_module": "@jupyter-widgets/base",
          "model_module_version": "1.2.0",
          "model_name": "LayoutModel",
          "state": {
            "_model_module": "@jupyter-widgets/base",
            "_model_module_version": "1.2.0",
            "_model_name": "LayoutModel",
            "_view_count": null,
            "_view_module": "@jupyter-widgets/base",
            "_view_module_version": "1.2.0",
            "_view_name": "LayoutView",
            "align_content": null,
            "align_items": null,
            "align_self": null,
            "border": null,
            "bottom": null,
            "display": null,
            "flex": null,
            "flex_flow": null,
            "grid_area": null,
            "grid_auto_columns": null,
            "grid_auto_flow": null,
            "grid_auto_rows": null,
            "grid_column": null,
            "grid_gap": null,
            "grid_row": null,
            "grid_template_areas": null,
            "grid_template_columns": null,
            "grid_template_rows": null,
            "height": null,
            "justify_content": null,
            "justify_items": null,
            "left": null,
            "margin": null,
            "max_height": null,
            "max_width": null,
            "min_height": null,
            "min_width": null,
            "object_fit": null,
            "object_position": null,
            "order": null,
            "overflow": null,
            "overflow_x": null,
            "overflow_y": null,
            "padding": null,
            "right": null,
            "top": null,
            "visibility": null,
            "width": null
          }
        },
        "2a72ce34d14e49e9942b611381134e24": {
          "model_module": "@jupyter-widgets/controls",
          "model_module_version": "1.5.0",
          "model_name": "HBoxModel",
          "state": {
            "_dom_classes": [],
            "_model_module": "@jupyter-widgets/controls",
            "_model_module_version": "1.5.0",
            "_model_name": "HBoxModel",
            "_view_count": null,
            "_view_module": "@jupyter-widgets/controls",
            "_view_module_version": "1.5.0",
            "_view_name": "HBoxView",
            "box_style": "",
            "children": [
              "IPY_MODEL_47c8e12c443c4a6a947b4b7e8bccb8a6",
              "IPY_MODEL_8d73812e12354b6fb8d9b9ad928c8d86",
              "IPY_MODEL_28813c105e7946b9b4fe9ae500b39023"
            ],
            "layout": "IPY_MODEL_a95d2510d9ad4df683fbfb22e5b4dde0"
          }
        },
        "3acbd604c6b3487eae42ffb73da068e9": {
          "model_module": "@jupyter-widgets/base",
          "model_module_version": "1.2.0",
          "model_name": "LayoutModel",
          "state": {
            "_model_module": "@jupyter-widgets/base",
            "_model_module_version": "1.2.0",
            "_model_name": "LayoutModel",
            "_view_count": null,
            "_view_module": "@jupyter-widgets/base",
            "_view_module_version": "1.2.0",
            "_view_name": "LayoutView",
            "align_content": null,
            "align_items": null,
            "align_self": null,
            "border": null,
            "bottom": null,
            "display": null,
            "flex": null,
            "flex_flow": null,
            "grid_area": null,
            "grid_auto_columns": null,
            "grid_auto_flow": null,
            "grid_auto_rows": null,
            "grid_column": null,
            "grid_gap": null,
            "grid_row": null,
            "grid_template_areas": null,
            "grid_template_columns": null,
            "grid_template_rows": null,
            "height": null,
            "justify_content": null,
            "justify_items": null,
            "left": null,
            "margin": null,
            "max_height": null,
            "max_width": null,
            "min_height": null,
            "min_width": null,
            "object_fit": null,
            "object_position": null,
            "order": null,
            "overflow": null,
            "overflow_x": null,
            "overflow_y": null,
            "padding": null,
            "right": null,
            "top": null,
            "visibility": null,
            "width": null
          }
        },
        "3d4cd11d435f47c09ee3b560fc53044f": {
          "model_module": "@jupyter-widgets/base",
          "model_module_version": "1.2.0",
          "model_name": "LayoutModel",
          "state": {
            "_model_module": "@jupyter-widgets/base",
            "_model_module_version": "1.2.0",
            "_model_name": "LayoutModel",
            "_view_count": null,
            "_view_module": "@jupyter-widgets/base",
            "_view_module_version": "1.2.0",
            "_view_name": "LayoutView",
            "align_content": null,
            "align_items": null,
            "align_self": null,
            "border": null,
            "bottom": null,
            "display": null,
            "flex": null,
            "flex_flow": null,
            "grid_area": null,
            "grid_auto_columns": null,
            "grid_auto_flow": null,
            "grid_auto_rows": null,
            "grid_column": null,
            "grid_gap": null,
            "grid_row": null,
            "grid_template_areas": null,
            "grid_template_columns": null,
            "grid_template_rows": null,
            "height": null,
            "justify_content": null,
            "justify_items": null,
            "left": null,
            "margin": null,
            "max_height": null,
            "max_width": null,
            "min_height": null,
            "min_width": null,
            "object_fit": null,
            "object_position": null,
            "order": null,
            "overflow": null,
            "overflow_x": null,
            "overflow_y": null,
            "padding": null,
            "right": null,
            "top": null,
            "visibility": null,
            "width": null
          }
        },
        "42a76986c2114f0285f1d113cfaef9e8": {
          "model_module": "@jupyter-widgets/base",
          "model_module_version": "1.2.0",
          "model_name": "LayoutModel",
          "state": {
            "_model_module": "@jupyter-widgets/base",
            "_model_module_version": "1.2.0",
            "_model_name": "LayoutModel",
            "_view_count": null,
            "_view_module": "@jupyter-widgets/base",
            "_view_module_version": "1.2.0",
            "_view_name": "LayoutView",
            "align_content": null,
            "align_items": null,
            "align_self": null,
            "border": null,
            "bottom": null,
            "display": null,
            "flex": null,
            "flex_flow": null,
            "grid_area": null,
            "grid_auto_columns": null,
            "grid_auto_flow": null,
            "grid_auto_rows": null,
            "grid_column": null,
            "grid_gap": null,
            "grid_row": null,
            "grid_template_areas": null,
            "grid_template_columns": null,
            "grid_template_rows": null,
            "height": null,
            "justify_content": null,
            "justify_items": null,
            "left": null,
            "margin": null,
            "max_height": null,
            "max_width": null,
            "min_height": null,
            "min_width": null,
            "object_fit": null,
            "object_position": null,
            "order": null,
            "overflow": null,
            "overflow_x": null,
            "overflow_y": null,
            "padding": null,
            "right": null,
            "top": null,
            "visibility": null,
            "width": null
          }
        },
        "45e81bb07cf64455a91aaebb9b592cb8": {
          "model_module": "@jupyter-widgets/base",
          "model_module_version": "1.2.0",
          "model_name": "LayoutModel",
          "state": {
            "_model_module": "@jupyter-widgets/base",
            "_model_module_version": "1.2.0",
            "_model_name": "LayoutModel",
            "_view_count": null,
            "_view_module": "@jupyter-widgets/base",
            "_view_module_version": "1.2.0",
            "_view_name": "LayoutView",
            "align_content": null,
            "align_items": null,
            "align_self": null,
            "border": null,
            "bottom": null,
            "display": null,
            "flex": null,
            "flex_flow": null,
            "grid_area": null,
            "grid_auto_columns": null,
            "grid_auto_flow": null,
            "grid_auto_rows": null,
            "grid_column": null,
            "grid_gap": null,
            "grid_row": null,
            "grid_template_areas": null,
            "grid_template_columns": null,
            "grid_template_rows": null,
            "height": null,
            "justify_content": null,
            "justify_items": null,
            "left": null,
            "margin": null,
            "max_height": null,
            "max_width": null,
            "min_height": null,
            "min_width": null,
            "object_fit": null,
            "object_position": null,
            "order": null,
            "overflow": null,
            "overflow_x": null,
            "overflow_y": null,
            "padding": null,
            "right": null,
            "top": null,
            "visibility": null,
            "width": null
          }
        },
        "47c8e12c443c4a6a947b4b7e8bccb8a6": {
          "model_module": "@jupyter-widgets/controls",
          "model_module_version": "1.5.0",
          "model_name": "HTMLModel",
          "state": {
            "_dom_classes": [],
            "_model_module": "@jupyter-widgets/controls",
            "_model_module_version": "1.5.0",
            "_model_name": "HTMLModel",
            "_view_count": null,
            "_view_module": "@jupyter-widgets/controls",
            "_view_module_version": "1.5.0",
            "_view_name": "HTMLView",
            "description": "",
            "description_tooltip": null,
            "layout": "IPY_MODEL_a1c710352c2740abb073ced77e824987",
            "placeholder": "​",
            "style": "IPY_MODEL_99bf57b7e6714f9ba8ac3e67b0852a22",
            "value": "merges.txt: 100%"
          }
        },
        "490f64b6f88540c69b52187946a6fc93": {
          "model_module": "@jupyter-widgets/controls",
          "model_module_version": "1.5.0",
          "model_name": "DescriptionStyleModel",
          "state": {
            "_model_module": "@jupyter-widgets/controls",
            "_model_module_version": "1.5.0",
            "_model_name": "DescriptionStyleModel",
            "_view_count": null,
            "_view_module": "@jupyter-widgets/base",
            "_view_module_version": "1.2.0",
            "_view_name": "StyleView",
            "description_width": ""
          }
        },
        "4a5f68ab463643a085166a75405b5d44": {
          "model_module": "@jupyter-widgets/base",
          "model_module_version": "1.2.0",
          "model_name": "LayoutModel",
          "state": {
            "_model_module": "@jupyter-widgets/base",
            "_model_module_version": "1.2.0",
            "_model_name": "LayoutModel",
            "_view_count": null,
            "_view_module": "@jupyter-widgets/base",
            "_view_module_version": "1.2.0",
            "_view_name": "LayoutView",
            "align_content": null,
            "align_items": null,
            "align_self": null,
            "border": null,
            "bottom": null,
            "display": null,
            "flex": null,
            "flex_flow": null,
            "grid_area": null,
            "grid_auto_columns": null,
            "grid_auto_flow": null,
            "grid_auto_rows": null,
            "grid_column": null,
            "grid_gap": null,
            "grid_row": null,
            "grid_template_areas": null,
            "grid_template_columns": null,
            "grid_template_rows": null,
            "height": null,
            "justify_content": null,
            "justify_items": null,
            "left": null,
            "margin": null,
            "max_height": null,
            "max_width": null,
            "min_height": null,
            "min_width": null,
            "object_fit": null,
            "object_position": null,
            "order": null,
            "overflow": null,
            "overflow_x": null,
            "overflow_y": null,
            "padding": null,
            "right": null,
            "top": null,
            "visibility": null,
            "width": null
          }
        },
        "63e00825f6e34fbba86863fd162bf93a": {
          "model_module": "@jupyter-widgets/controls",
          "model_module_version": "1.5.0",
          "model_name": "FloatProgressModel",
          "state": {
            "_dom_classes": [],
            "_model_module": "@jupyter-widgets/controls",
            "_model_module_version": "1.5.0",
            "_model_name": "FloatProgressModel",
            "_view_count": null,
            "_view_module": "@jupyter-widgets/controls",
            "_view_module_version": "1.5.0",
            "_view_name": "ProgressView",
            "bar_style": "success",
            "description": "",
            "description_tooltip": null,
            "layout": "IPY_MODEL_acb90a41322e4018a19e00cc2e97f236",
            "max": 665,
            "min": 0,
            "orientation": "horizontal",
            "style": "IPY_MODEL_c364fb971bb148b89489b1dd4858e6a9",
            "value": 665
          }
        },
        "6cb62602bbff41c9a0a9a0e2ac7fde3d": {
          "model_module": "@jupyter-widgets/controls",
          "model_module_version": "1.5.0",
          "model_name": "DescriptionStyleModel",
          "state": {
            "_model_module": "@jupyter-widgets/controls",
            "_model_module_version": "1.5.0",
            "_model_name": "DescriptionStyleModel",
            "_view_count": null,
            "_view_module": "@jupyter-widgets/base",
            "_view_module_version": "1.2.0",
            "_view_name": "StyleView",
            "description_width": ""
          }
        },
        "70c03d55ad6e42b2ad28bd4e94d6c864": {
          "model_module": "@jupyter-widgets/controls",
          "model_module_version": "1.5.0",
          "model_name": "HTMLModel",
          "state": {
            "_dom_classes": [],
            "_model_module": "@jupyter-widgets/controls",
            "_model_module_version": "1.5.0",
            "_model_name": "HTMLModel",
            "_view_count": null,
            "_view_module": "@jupyter-widgets/controls",
            "_view_module_version": "1.5.0",
            "_view_name": "HTMLView",
            "description": "",
            "description_tooltip": null,
            "layout": "IPY_MODEL_bf879b0dcb684ba68cf666aee89c9ccb",
            "placeholder": "​",
            "style": "IPY_MODEL_0eb6a7c0ba214a8ea69091c6b561c5f2",
            "value": " 1.04M/1.04M [00:00&lt;00:00, 2.39MB/s]"
          }
        },
        "7798dbd0a7404904a11b0199ce3b8ed0": {
          "model_module": "@jupyter-widgets/controls",
          "model_module_version": "1.5.0",
          "model_name": "DescriptionStyleModel",
          "state": {
            "_model_module": "@jupyter-widgets/controls",
            "_model_module_version": "1.5.0",
            "_model_name": "DescriptionStyleModel",
            "_view_count": null,
            "_view_module": "@jupyter-widgets/base",
            "_view_module_version": "1.2.0",
            "_view_name": "StyleView",
            "description_width": ""
          }
        },
        "7bd0c526ec5548ef94c53abdedd8fa95": {
          "model_module": "@jupyter-widgets/base",
          "model_module_version": "1.2.0",
          "model_name": "LayoutModel",
          "state": {
            "_model_module": "@jupyter-widgets/base",
            "_model_module_version": "1.2.0",
            "_model_name": "LayoutModel",
            "_view_count": null,
            "_view_module": "@jupyter-widgets/base",
            "_view_module_version": "1.2.0",
            "_view_name": "LayoutView",
            "align_content": null,
            "align_items": null,
            "align_self": null,
            "border": null,
            "bottom": null,
            "display": null,
            "flex": null,
            "flex_flow": null,
            "grid_area": null,
            "grid_auto_columns": null,
            "grid_auto_flow": null,
            "grid_auto_rows": null,
            "grid_column": null,
            "grid_gap": null,
            "grid_row": null,
            "grid_template_areas": null,
            "grid_template_columns": null,
            "grid_template_rows": null,
            "height": null,
            "justify_content": null,
            "justify_items": null,
            "left": null,
            "margin": null,
            "max_height": null,
            "max_width": null,
            "min_height": null,
            "min_width": null,
            "object_fit": null,
            "object_position": null,
            "order": null,
            "overflow": null,
            "overflow_x": null,
            "overflow_y": null,
            "padding": null,
            "right": null,
            "top": null,
            "visibility": null,
            "width": null
          }
        },
        "8a9983fac2884ddb9507bfa3065cf12c": {
          "model_module": "@jupyter-widgets/controls",
          "model_module_version": "1.5.0",
          "model_name": "HTMLModel",
          "state": {
            "_dom_classes": [],
            "_model_module": "@jupyter-widgets/controls",
            "_model_module_version": "1.5.0",
            "_model_name": "HTMLModel",
            "_view_count": null,
            "_view_module": "@jupyter-widgets/controls",
            "_view_module_version": "1.5.0",
            "_view_name": "HTMLView",
            "description": "",
            "description_tooltip": null,
            "layout": "IPY_MODEL_0e06cc9e741f4d3a817ac368d30b19ff",
            "placeholder": "​",
            "style": "IPY_MODEL_f943b84dce384188ac572eab0a24967f",
            "value": " 26.0/26.0 [00:00&lt;00:00, 801B/s]"
          }
        },
        "8c6ff33b38d94cb48a79d37671741eca": {
          "model_module": "@jupyter-widgets/controls",
          "model_module_version": "1.5.0",
          "model_name": "HTMLModel",
          "state": {
            "_dom_classes": [],
            "_model_module": "@jupyter-widgets/controls",
            "_model_module_version": "1.5.0",
            "_model_name": "HTMLModel",
            "_view_count": null,
            "_view_module": "@jupyter-widgets/controls",
            "_view_module_version": "1.5.0",
            "_view_name": "HTMLView",
            "description": "",
            "description_tooltip": null,
            "layout": "IPY_MODEL_3d4cd11d435f47c09ee3b560fc53044f",
            "placeholder": "​",
            "style": "IPY_MODEL_6cb62602bbff41c9a0a9a0e2ac7fde3d",
            "value": "config.json: 100%"
          }
        },
        "8d73812e12354b6fb8d9b9ad928c8d86": {
          "model_module": "@jupyter-widgets/controls",
          "model_module_version": "1.5.0",
          "model_name": "FloatProgressModel",
          "state": {
            "_dom_classes": [],
            "_model_module": "@jupyter-widgets/controls",
            "_model_module_version": "1.5.0",
            "_model_name": "FloatProgressModel",
            "_view_count": null,
            "_view_module": "@jupyter-widgets/controls",
            "_view_module_version": "1.5.0",
            "_view_name": "ProgressView",
            "bar_style": "success",
            "description": "",
            "description_tooltip": null,
            "layout": "IPY_MODEL_1280b721212e463398dad9a9269ec2e4",
            "max": 456318,
            "min": 0,
            "orientation": "horizontal",
            "style": "IPY_MODEL_b6837c8777f244b8a5a48aa23960d0ed",
            "value": 456318
          }
        },
        "9176817e2ea84b62979d94147e480530": {
          "model_module": "@jupyter-widgets/base",
          "model_module_version": "1.2.0",
          "model_name": "LayoutModel",
          "state": {
            "_model_module": "@jupyter-widgets/base",
            "_model_module_version": "1.2.0",
            "_model_name": "LayoutModel",
            "_view_count": null,
            "_view_module": "@jupyter-widgets/base",
            "_view_module_version": "1.2.0",
            "_view_name": "LayoutView",
            "align_content": null,
            "align_items": null,
            "align_self": null,
            "border": null,
            "bottom": null,
            "display": null,
            "flex": null,
            "flex_flow": null,
            "grid_area": null,
            "grid_auto_columns": null,
            "grid_auto_flow": null,
            "grid_auto_rows": null,
            "grid_column": null,
            "grid_gap": null,
            "grid_row": null,
            "grid_template_areas": null,
            "grid_template_columns": null,
            "grid_template_rows": null,
            "height": null,
            "justify_content": null,
            "justify_items": null,
            "left": null,
            "margin": null,
            "max_height": null,
            "max_width": null,
            "min_height": null,
            "min_width": null,
            "object_fit": null,
            "object_position": null,
            "order": null,
            "overflow": null,
            "overflow_x": null,
            "overflow_y": null,
            "padding": null,
            "right": null,
            "top": null,
            "visibility": null,
            "width": null
          }
        },
        "9967e32e6143496f8893e4a8941a2043": {
          "model_module": "@jupyter-widgets/controls",
          "model_module_version": "1.5.0",
          "model_name": "HTMLModel",
          "state": {
            "_dom_classes": [],
            "_model_module": "@jupyter-widgets/controls",
            "_model_module_version": "1.5.0",
            "_model_name": "HTMLModel",
            "_view_count": null,
            "_view_module": "@jupyter-widgets/controls",
            "_view_module_version": "1.5.0",
            "_view_name": "HTMLView",
            "description": "",
            "description_tooltip": null,
            "layout": "IPY_MODEL_3acbd604c6b3487eae42ffb73da068e9",
            "placeholder": "​",
            "style": "IPY_MODEL_490f64b6f88540c69b52187946a6fc93",
            "value": " 665/665 [00:00&lt;00:00, 15.2kB/s]"
          }
        },
        "99bf57b7e6714f9ba8ac3e67b0852a22": {
          "model_module": "@jupyter-widgets/controls",
          "model_module_version": "1.5.0",
          "model_name": "DescriptionStyleModel",
          "state": {
            "_model_module": "@jupyter-widgets/controls",
            "_model_module_version": "1.5.0",
            "_model_name": "DescriptionStyleModel",
            "_view_count": null,
            "_view_module": "@jupyter-widgets/base",
            "_view_module_version": "1.2.0",
            "_view_name": "StyleView",
            "description_width": ""
          }
        },
        "9b050daab9124a86be8855f82b651a31": {
          "model_module": "@jupyter-widgets/base",
          "model_module_version": "1.2.0",
          "model_name": "LayoutModel",
          "state": {
            "_model_module": "@jupyter-widgets/base",
            "_model_module_version": "1.2.0",
            "_model_name": "LayoutModel",
            "_view_count": null,
            "_view_module": "@jupyter-widgets/base",
            "_view_module_version": "1.2.0",
            "_view_name": "LayoutView",
            "align_content": null,
            "align_items": null,
            "align_self": null,
            "border": null,
            "bottom": null,
            "display": null,
            "flex": null,
            "flex_flow": null,
            "grid_area": null,
            "grid_auto_columns": null,
            "grid_auto_flow": null,
            "grid_auto_rows": null,
            "grid_column": null,
            "grid_gap": null,
            "grid_row": null,
            "grid_template_areas": null,
            "grid_template_columns": null,
            "grid_template_rows": null,
            "height": null,
            "justify_content": null,
            "justify_items": null,
            "left": null,
            "margin": null,
            "max_height": null,
            "max_width": null,
            "min_height": null,
            "min_width": null,
            "object_fit": null,
            "object_position": null,
            "order": null,
            "overflow": null,
            "overflow_x": null,
            "overflow_y": null,
            "padding": null,
            "right": null,
            "top": null,
            "visibility": null,
            "width": null
          }
        },
        "a1c710352c2740abb073ced77e824987": {
          "model_module": "@jupyter-widgets/base",
          "model_module_version": "1.2.0",
          "model_name": "LayoutModel",
          "state": {
            "_model_module": "@jupyter-widgets/base",
            "_model_module_version": "1.2.0",
            "_model_name": "LayoutModel",
            "_view_count": null,
            "_view_module": "@jupyter-widgets/base",
            "_view_module_version": "1.2.0",
            "_view_name": "LayoutView",
            "align_content": null,
            "align_items": null,
            "align_self": null,
            "border": null,
            "bottom": null,
            "display": null,
            "flex": null,
            "flex_flow": null,
            "grid_area": null,
            "grid_auto_columns": null,
            "grid_auto_flow": null,
            "grid_auto_rows": null,
            "grid_column": null,
            "grid_gap": null,
            "grid_row": null,
            "grid_template_areas": null,
            "grid_template_columns": null,
            "grid_template_rows": null,
            "height": null,
            "justify_content": null,
            "justify_items": null,
            "left": null,
            "margin": null,
            "max_height": null,
            "max_width": null,
            "min_height": null,
            "min_width": null,
            "object_fit": null,
            "object_position": null,
            "order": null,
            "overflow": null,
            "overflow_x": null,
            "overflow_y": null,
            "padding": null,
            "right": null,
            "top": null,
            "visibility": null,
            "width": null
          }
        },
        "a95d2510d9ad4df683fbfb22e5b4dde0": {
          "model_module": "@jupyter-widgets/base",
          "model_module_version": "1.2.0",
          "model_name": "LayoutModel",
          "state": {
            "_model_module": "@jupyter-widgets/base",
            "_model_module_version": "1.2.0",
            "_model_name": "LayoutModel",
            "_view_count": null,
            "_view_module": "@jupyter-widgets/base",
            "_view_module_version": "1.2.0",
            "_view_name": "LayoutView",
            "align_content": null,
            "align_items": null,
            "align_self": null,
            "border": null,
            "bottom": null,
            "display": null,
            "flex": null,
            "flex_flow": null,
            "grid_area": null,
            "grid_auto_columns": null,
            "grid_auto_flow": null,
            "grid_auto_rows": null,
            "grid_column": null,
            "grid_gap": null,
            "grid_row": null,
            "grid_template_areas": null,
            "grid_template_columns": null,
            "grid_template_rows": null,
            "height": null,
            "justify_content": null,
            "justify_items": null,
            "left": null,
            "margin": null,
            "max_height": null,
            "max_width": null,
            "min_height": null,
            "min_width": null,
            "object_fit": null,
            "object_position": null,
            "order": null,
            "overflow": null,
            "overflow_x": null,
            "overflow_y": null,
            "padding": null,
            "right": null,
            "top": null,
            "visibility": null,
            "width": null
          }
        },
        "acb90a41322e4018a19e00cc2e97f236": {
          "model_module": "@jupyter-widgets/base",
          "model_module_version": "1.2.0",
          "model_name": "LayoutModel",
          "state": {
            "_model_module": "@jupyter-widgets/base",
            "_model_module_version": "1.2.0",
            "_model_name": "LayoutModel",
            "_view_count": null,
            "_view_module": "@jupyter-widgets/base",
            "_view_module_version": "1.2.0",
            "_view_name": "LayoutView",
            "align_content": null,
            "align_items": null,
            "align_self": null,
            "border": null,
            "bottom": null,
            "display": null,
            "flex": null,
            "flex_flow": null,
            "grid_area": null,
            "grid_auto_columns": null,
            "grid_auto_flow": null,
            "grid_auto_rows": null,
            "grid_column": null,
            "grid_gap": null,
            "grid_row": null,
            "grid_template_areas": null,
            "grid_template_columns": null,
            "grid_template_rows": null,
            "height": null,
            "justify_content": null,
            "justify_items": null,
            "left": null,
            "margin": null,
            "max_height": null,
            "max_width": null,
            "min_height": null,
            "min_width": null,
            "object_fit": null,
            "object_position": null,
            "order": null,
            "overflow": null,
            "overflow_x": null,
            "overflow_y": null,
            "padding": null,
            "right": null,
            "top": null,
            "visibility": null,
            "width": null
          }
        },
        "ade0f6ba1195472fb29f9d4141832cde": {
          "model_module": "@jupyter-widgets/controls",
          "model_module_version": "1.5.0",
          "model_name": "HBoxModel",
          "state": {
            "_dom_classes": [],
            "_model_module": "@jupyter-widgets/controls",
            "_model_module_version": "1.5.0",
            "_model_name": "HBoxModel",
            "_view_count": null,
            "_view_module": "@jupyter-widgets/controls",
            "_view_module_version": "1.5.0",
            "_view_name": "HBoxView",
            "box_style": "",
            "children": [
              "IPY_MODEL_f2274c8560d340a1ae38e85f25817c90",
              "IPY_MODEL_01d2bdd36f814e3fb134a3e9448c85ad",
              "IPY_MODEL_8a9983fac2884ddb9507bfa3065cf12c"
            ],
            "layout": "IPY_MODEL_dd4fbf4066374253ad16143f96a1b1f6"
          }
        },
        "b01ce2a8b721466590e8aff1a3bfd10d": {
          "model_module": "@jupyter-widgets/controls",
          "model_module_version": "1.5.0",
          "model_name": "HTMLModel",
          "state": {
            "_dom_classes": [],
            "_model_module": "@jupyter-widgets/controls",
            "_model_module_version": "1.5.0",
            "_model_name": "HTMLModel",
            "_view_count": null,
            "_view_module": "@jupyter-widgets/controls",
            "_view_module_version": "1.5.0",
            "_view_name": "HTMLView",
            "description": "",
            "description_tooltip": null,
            "layout": "IPY_MODEL_fe936253ad4c4b049fe050ae6f7e62ef",
            "placeholder": "​",
            "style": "IPY_MODEL_0901f8bc04c747a0841b5108f0a01da0",
            "value": " 1.36M/1.36M [00:00&lt;00:00, 3.14MB/s]"
          }
        },
        "b6837c8777f244b8a5a48aa23960d0ed": {
          "model_module": "@jupyter-widgets/controls",
          "model_module_version": "1.5.0",
          "model_name": "ProgressStyleModel",
          "state": {
            "_model_module": "@jupyter-widgets/controls",
            "_model_module_version": "1.5.0",
            "_model_name": "ProgressStyleModel",
            "_view_count": null,
            "_view_module": "@jupyter-widgets/base",
            "_view_module_version": "1.2.0",
            "_view_name": "StyleView",
            "bar_color": null,
            "description_width": ""
          }
        },
        "ba9e8fc74a8f46ce87b1512c1e7c1546": {
          "model_module": "@jupyter-widgets/controls",
          "model_module_version": "1.5.0",
          "model_name": "HTMLModel",
          "state": {
            "_dom_classes": [],
            "_model_module": "@jupyter-widgets/controls",
            "_model_module_version": "1.5.0",
            "_model_name": "HTMLModel",
            "_view_count": null,
            "_view_module": "@jupyter-widgets/controls",
            "_view_module_version": "1.5.0",
            "_view_name": "HTMLView",
            "description": "",
            "description_tooltip": null,
            "layout": "IPY_MODEL_9b050daab9124a86be8855f82b651a31",
            "placeholder": "​",
            "style": "IPY_MODEL_7798dbd0a7404904a11b0199ce3b8ed0",
            "value": "vocab.json: 100%"
          }
        },
        "bf879b0dcb684ba68cf666aee89c9ccb": {
          "model_module": "@jupyter-widgets/base",
          "model_module_version": "1.2.0",
          "model_name": "LayoutModel",
          "state": {
            "_model_module": "@jupyter-widgets/base",
            "_model_module_version": "1.2.0",
            "_model_name": "LayoutModel",
            "_view_count": null,
            "_view_module": "@jupyter-widgets/base",
            "_view_module_version": "1.2.0",
            "_view_name": "LayoutView",
            "align_content": null,
            "align_items": null,
            "align_self": null,
            "border": null,
            "bottom": null,
            "display": null,
            "flex": null,
            "flex_flow": null,
            "grid_area": null,
            "grid_auto_columns": null,
            "grid_auto_flow": null,
            "grid_auto_rows": null,
            "grid_column": null,
            "grid_gap": null,
            "grid_row": null,
            "grid_template_areas": null,
            "grid_template_columns": null,
            "grid_template_rows": null,
            "height": null,
            "justify_content": null,
            "justify_items": null,
            "left": null,
            "margin": null,
            "max_height": null,
            "max_width": null,
            "min_height": null,
            "min_width": null,
            "object_fit": null,
            "object_position": null,
            "order": null,
            "overflow": null,
            "overflow_x": null,
            "overflow_y": null,
            "padding": null,
            "right": null,
            "top": null,
            "visibility": null,
            "width": null
          }
        },
        "bfe3ae9de1674d0baa92919aa8ff476c": {
          "model_module": "@jupyter-widgets/controls",
          "model_module_version": "1.5.0",
          "model_name": "HTMLModel",
          "state": {
            "_dom_classes": [],
            "_model_module": "@jupyter-widgets/controls",
            "_model_module_version": "1.5.0",
            "_model_name": "HTMLModel",
            "_view_count": null,
            "_view_module": "@jupyter-widgets/controls",
            "_view_module_version": "1.5.0",
            "_view_name": "HTMLView",
            "description": "",
            "description_tooltip": null,
            "layout": "IPY_MODEL_45e81bb07cf64455a91aaebb9b592cb8",
            "placeholder": "​",
            "style": "IPY_MODEL_f14b30395edd4bf0802d9c9a6fb7baad",
            "value": "tokenizer.json: 100%"
          }
        },
        "c1e26d30e6fe4b3f8eacce4b2e499363": {
          "model_module": "@jupyter-widgets/controls",
          "model_module_version": "1.5.0",
          "model_name": "HBoxModel",
          "state": {
            "_dom_classes": [],
            "_model_module": "@jupyter-widgets/controls",
            "_model_module_version": "1.5.0",
            "_model_name": "HBoxModel",
            "_view_count": null,
            "_view_module": "@jupyter-widgets/controls",
            "_view_module_version": "1.5.0",
            "_view_name": "HBoxView",
            "box_style": "",
            "children": [
              "IPY_MODEL_8c6ff33b38d94cb48a79d37671741eca",
              "IPY_MODEL_63e00825f6e34fbba86863fd162bf93a",
              "IPY_MODEL_9967e32e6143496f8893e4a8941a2043"
            ],
            "layout": "IPY_MODEL_d9da8f9cd4ba4eab91778d86a309baa6"
          }
        },
        "c364fb971bb148b89489b1dd4858e6a9": {
          "model_module": "@jupyter-widgets/controls",
          "model_module_version": "1.5.0",
          "model_name": "ProgressStyleModel",
          "state": {
            "_model_module": "@jupyter-widgets/controls",
            "_model_module_version": "1.5.0",
            "_model_name": "ProgressStyleModel",
            "_view_count": null,
            "_view_module": "@jupyter-widgets/base",
            "_view_module_version": "1.2.0",
            "_view_name": "StyleView",
            "bar_color": null,
            "description_width": ""
          }
        },
        "d20276010dd343df9a5498795131f57e": {
          "model_module": "@jupyter-widgets/base",
          "model_module_version": "1.2.0",
          "model_name": "LayoutModel",
          "state": {
            "_model_module": "@jupyter-widgets/base",
            "_model_module_version": "1.2.0",
            "_model_name": "LayoutModel",
            "_view_count": null,
            "_view_module": "@jupyter-widgets/base",
            "_view_module_version": "1.2.0",
            "_view_name": "LayoutView",
            "align_content": null,
            "align_items": null,
            "align_self": null,
            "border": null,
            "bottom": null,
            "display": null,
            "flex": null,
            "flex_flow": null,
            "grid_area": null,
            "grid_auto_columns": null,
            "grid_auto_flow": null,
            "grid_auto_rows": null,
            "grid_column": null,
            "grid_gap": null,
            "grid_row": null,
            "grid_template_areas": null,
            "grid_template_columns": null,
            "grid_template_rows": null,
            "height": null,
            "justify_content": null,
            "justify_items": null,
            "left": null,
            "margin": null,
            "max_height": null,
            "max_width": null,
            "min_height": null,
            "min_width": null,
            "object_fit": null,
            "object_position": null,
            "order": null,
            "overflow": null,
            "overflow_x": null,
            "overflow_y": null,
            "padding": null,
            "right": null,
            "top": null,
            "visibility": null,
            "width": null
          }
        },
        "d23744705b6c4a4986ae9a0051ffa767": {
          "model_module": "@jupyter-widgets/controls",
          "model_module_version": "1.5.0",
          "model_name": "ProgressStyleModel",
          "state": {
            "_model_module": "@jupyter-widgets/controls",
            "_model_module_version": "1.5.0",
            "_model_name": "ProgressStyleModel",
            "_view_count": null,
            "_view_module": "@jupyter-widgets/base",
            "_view_module_version": "1.2.0",
            "_view_name": "StyleView",
            "bar_color": null,
            "description_width": ""
          }
        },
        "d5ba1c8986ff4ef593201abe949df2d2": {
          "model_module": "@jupyter-widgets/controls",
          "model_module_version": "1.5.0",
          "model_name": "HBoxModel",
          "state": {
            "_dom_classes": [],
            "_model_module": "@jupyter-widgets/controls",
            "_model_module_version": "1.5.0",
            "_model_name": "HBoxModel",
            "_view_count": null,
            "_view_module": "@jupyter-widgets/controls",
            "_view_module_version": "1.5.0",
            "_view_name": "HBoxView",
            "box_style": "",
            "children": [
              "IPY_MODEL_ba9e8fc74a8f46ce87b1512c1e7c1546",
              "IPY_MODEL_14bca33ada594a618759ee84c1ff3494",
              "IPY_MODEL_70c03d55ad6e42b2ad28bd4e94d6c864"
            ],
            "layout": "IPY_MODEL_42a76986c2114f0285f1d113cfaef9e8"
          }
        },
        "d9da8f9cd4ba4eab91778d86a309baa6": {
          "model_module": "@jupyter-widgets/base",
          "model_module_version": "1.2.0",
          "model_name": "LayoutModel",
          "state": {
            "_model_module": "@jupyter-widgets/base",
            "_model_module_version": "1.2.0",
            "_model_name": "LayoutModel",
            "_view_count": null,
            "_view_module": "@jupyter-widgets/base",
            "_view_module_version": "1.2.0",
            "_view_name": "LayoutView",
            "align_content": null,
            "align_items": null,
            "align_self": null,
            "border": null,
            "bottom": null,
            "display": null,
            "flex": null,
            "flex_flow": null,
            "grid_area": null,
            "grid_auto_columns": null,
            "grid_auto_flow": null,
            "grid_auto_rows": null,
            "grid_column": null,
            "grid_gap": null,
            "grid_row": null,
            "grid_template_areas": null,
            "grid_template_columns": null,
            "grid_template_rows": null,
            "height": null,
            "justify_content": null,
            "justify_items": null,
            "left": null,
            "margin": null,
            "max_height": null,
            "max_width": null,
            "min_height": null,
            "min_width": null,
            "object_fit": null,
            "object_position": null,
            "order": null,
            "overflow": null,
            "overflow_x": null,
            "overflow_y": null,
            "padding": null,
            "right": null,
            "top": null,
            "visibility": null,
            "width": null
          }
        },
        "dd4fbf4066374253ad16143f96a1b1f6": {
          "model_module": "@jupyter-widgets/base",
          "model_module_version": "1.2.0",
          "model_name": "LayoutModel",
          "state": {
            "_model_module": "@jupyter-widgets/base",
            "_model_module_version": "1.2.0",
            "_model_name": "LayoutModel",
            "_view_count": null,
            "_view_module": "@jupyter-widgets/base",
            "_view_module_version": "1.2.0",
            "_view_name": "LayoutView",
            "align_content": null,
            "align_items": null,
            "align_self": null,
            "border": null,
            "bottom": null,
            "display": null,
            "flex": null,
            "flex_flow": null,
            "grid_area": null,
            "grid_auto_columns": null,
            "grid_auto_flow": null,
            "grid_auto_rows": null,
            "grid_column": null,
            "grid_gap": null,
            "grid_row": null,
            "grid_template_areas": null,
            "grid_template_columns": null,
            "grid_template_rows": null,
            "height": null,
            "justify_content": null,
            "justify_items": null,
            "left": null,
            "margin": null,
            "max_height": null,
            "max_width": null,
            "min_height": null,
            "min_width": null,
            "object_fit": null,
            "object_position": null,
            "order": null,
            "overflow": null,
            "overflow_x": null,
            "overflow_y": null,
            "padding": null,
            "right": null,
            "top": null,
            "visibility": null,
            "width": null
          }
        },
        "e1d5a481148b40e59c1aeb859e6bf5ce": {
          "model_module": "@jupyter-widgets/controls",
          "model_module_version": "1.5.0",
          "model_name": "ProgressStyleModel",
          "state": {
            "_model_module": "@jupyter-widgets/controls",
            "_model_module_version": "1.5.0",
            "_model_name": "ProgressStyleModel",
            "_view_count": null,
            "_view_module": "@jupyter-widgets/base",
            "_view_module_version": "1.2.0",
            "_view_name": "StyleView",
            "bar_color": null,
            "description_width": ""
          }
        },
        "eba7a4d7aa8e425b9cbe8e31c459483e": {
          "model_module": "@jupyter-widgets/controls",
          "model_module_version": "1.5.0",
          "model_name": "HBoxModel",
          "state": {
            "_dom_classes": [],
            "_model_module": "@jupyter-widgets/controls",
            "_model_module_version": "1.5.0",
            "_model_name": "HBoxModel",
            "_view_count": null,
            "_view_module": "@jupyter-widgets/controls",
            "_view_module_version": "1.5.0",
            "_view_name": "HBoxView",
            "box_style": "",
            "children": [
              "IPY_MODEL_bfe3ae9de1674d0baa92919aa8ff476c",
              "IPY_MODEL_fc4f9c38b9a1488c9aa2d17829723785",
              "IPY_MODEL_b01ce2a8b721466590e8aff1a3bfd10d"
            ],
            "layout": "IPY_MODEL_4a5f68ab463643a085166a75405b5d44"
          }
        },
        "ef3c33a2a74246999f326a8331208ec8": {
          "model_module": "@jupyter-widgets/controls",
          "model_module_version": "1.5.0",
          "model_name": "ProgressStyleModel",
          "state": {
            "_model_module": "@jupyter-widgets/controls",
            "_model_module_version": "1.5.0",
            "_model_name": "ProgressStyleModel",
            "_view_count": null,
            "_view_module": "@jupyter-widgets/base",
            "_view_module_version": "1.2.0",
            "_view_name": "StyleView",
            "bar_color": null,
            "description_width": ""
          }
        },
        "f14b30395edd4bf0802d9c9a6fb7baad": {
          "model_module": "@jupyter-widgets/controls",
          "model_module_version": "1.5.0",
          "model_name": "DescriptionStyleModel",
          "state": {
            "_model_module": "@jupyter-widgets/controls",
            "_model_module_version": "1.5.0",
            "_model_name": "DescriptionStyleModel",
            "_view_count": null,
            "_view_module": "@jupyter-widgets/base",
            "_view_module_version": "1.2.0",
            "_view_name": "StyleView",
            "description_width": ""
          }
        },
        "f2274c8560d340a1ae38e85f25817c90": {
          "model_module": "@jupyter-widgets/controls",
          "model_module_version": "1.5.0",
          "model_name": "HTMLModel",
          "state": {
            "_dom_classes": [],
            "_model_module": "@jupyter-widgets/controls",
            "_model_module_version": "1.5.0",
            "_model_name": "HTMLModel",
            "_view_count": null,
            "_view_module": "@jupyter-widgets/controls",
            "_view_module_version": "1.5.0",
            "_view_name": "HTMLView",
            "description": "",
            "description_tooltip": null,
            "layout": "IPY_MODEL_7bd0c526ec5548ef94c53abdedd8fa95",
            "placeholder": "​",
            "style": "IPY_MODEL_f78d1ce3a6da4c71a515616f4e448b6a",
            "value": "tokenizer_config.json: 100%"
          }
        },
        "f78d1ce3a6da4c71a515616f4e448b6a": {
          "model_module": "@jupyter-widgets/controls",
          "model_module_version": "1.5.0",
          "model_name": "DescriptionStyleModel",
          "state": {
            "_model_module": "@jupyter-widgets/controls",
            "_model_module_version": "1.5.0",
            "_model_name": "DescriptionStyleModel",
            "_view_count": null,
            "_view_module": "@jupyter-widgets/base",
            "_view_module_version": "1.2.0",
            "_view_name": "StyleView",
            "description_width": ""
          }
        },
        "f943b84dce384188ac572eab0a24967f": {
          "model_module": "@jupyter-widgets/controls",
          "model_module_version": "1.5.0",
          "model_name": "DescriptionStyleModel",
          "state": {
            "_model_module": "@jupyter-widgets/controls",
            "_model_module_version": "1.5.0",
            "_model_name": "DescriptionStyleModel",
            "_view_count": null,
            "_view_module": "@jupyter-widgets/base",
            "_view_module_version": "1.2.0",
            "_view_name": "StyleView",
            "description_width": ""
          }
        },
        "fc4f9c38b9a1488c9aa2d17829723785": {
          "model_module": "@jupyter-widgets/controls",
          "model_module_version": "1.5.0",
          "model_name": "FloatProgressModel",
          "state": {
            "_dom_classes": [],
            "_model_module": "@jupyter-widgets/controls",
            "_model_module_version": "1.5.0",
            "_model_name": "FloatProgressModel",
            "_view_count": null,
            "_view_module": "@jupyter-widgets/controls",
            "_view_module_version": "1.5.0",
            "_view_name": "ProgressView",
            "bar_style": "success",
            "description": "",
            "description_tooltip": null,
            "layout": "IPY_MODEL_29a68ad51db7437cb1e708f82597ba4b",
            "max": 1355256,
            "min": 0,
            "orientation": "horizontal",
            "style": "IPY_MODEL_e1d5a481148b40e59c1aeb859e6bf5ce",
            "value": 1355256
          }
        },
        "fe936253ad4c4b049fe050ae6f7e62ef": {
          "model_module": "@jupyter-widgets/base",
          "model_module_version": "1.2.0",
          "model_name": "LayoutModel",
          "state": {
            "_model_module": "@jupyter-widgets/base",
            "_model_module_version": "1.2.0",
            "_model_name": "LayoutModel",
            "_view_count": null,
            "_view_module": "@jupyter-widgets/base",
            "_view_module_version": "1.2.0",
            "_view_name": "LayoutView",
            "align_content": null,
            "align_items": null,
            "align_self": null,
            "border": null,
            "bottom": null,
            "display": null,
            "flex": null,
            "flex_flow": null,
            "grid_area": null,
            "grid_auto_columns": null,
            "grid_auto_flow": null,
            "grid_auto_rows": null,
            "grid_column": null,
            "grid_gap": null,
            "grid_row": null,
            "grid_template_areas": null,
            "grid_template_columns": null,
            "grid_template_rows": null,
            "height": null,
            "justify_content": null,
            "justify_items": null,
            "left": null,
            "margin": null,
            "max_height": null,
            "max_width": null,
            "min_height": null,
            "min_width": null,
            "object_fit": null,
            "object_position": null,
            "order": null,
            "overflow": null,
            "overflow_x": null,
            "overflow_y": null,
            "padding": null,
            "right": null,
            "top": null,
            "visibility": null,
            "width": null
          }
        }
      }
    }
  },
  "nbformat": 4,
  "nbformat_minor": 0
}
